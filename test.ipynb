{
 "cells": [
  {
   "cell_type": "code",
   "execution_count": 1,
   "metadata": {},
   "outputs": [],
   "source": [
    "from utils import *\n",
    "import numpy as np"
   ]
  },
  {
   "cell_type": "code",
   "execution_count": 2,
   "metadata": {},
   "outputs": [],
   "source": [
    "# sphere\n",
    "e_z = np.array([0,0,-1.])\n",
    "N = 100\n",
    "R_y = rotation_matrice_y(np.pi/N)\n",
    "x = e_z\n",
    "vertices = np.copy(x)[np.newaxis,:]\n",
    "for i in range(N):\n",
    "    x = R_y@x\n",
    "    vertices = np.vstack((vertices,x))\n",
    "arc = np.copy(vertices)\n",
    "R_z = rotation_matrice_z(2*np.pi/N)\n",
    "for j in range(N):\n",
    "    arc = (R_z@arc.T).T\n",
    "    vertices = np.vstack((vertices,arc))"
   ]
  },
  {
   "cell_type": "code",
   "execution_count": 3,
   "metadata": {},
   "outputs": [
    {
     "data": {
      "text/plain": [
       "array([-6.24024519e-03, -9.54457994e-17,  9.14625258e-16])"
      ]
     },
     "execution_count": 3,
     "metadata": {},
     "output_type": "execute_result"
    }
   ],
   "source": [
    "# assert sphere\n",
    "np.mean(vertices,axis=0)"
   ]
  },
  {
   "cell_type": "code",
   "execution_count": 4,
   "metadata": {},
   "outputs": [],
   "source": [
    "# object\n",
    "normals = np.copy(vertices)\n",
    "obj = Mesh(vertices,normals)\n",
    "\n",
    "# screen\n",
    "num_pixels,scale_screen = 25, 1.\n",
    "screen = Screen(num_pixels,scale_screen)\n",
    "\n",
    "# scene\n",
    "camera_distance=1. # camera distance \n",
    "scene = Scene(camera_distance,screen)\n",
    "scene.add_mesh(obj,np.array([-0.5,2.,-0.5]))\n",
    "scene.add_mesh(obj,np.array([2,5.,2]))\n",
    "scene.add_light(1., np.array([0.,-10.,1.])) # light intensity, light position\n",
    "\n",
    "# render\n",
    "scene.render()"
   ]
  },
  {
   "cell_type": "code",
   "execution_count": 5,
   "metadata": {},
   "outputs": [
    {
     "name": "stdout",
     "output_type": "stream",
     "text": [
      "                                    ~~;;;;;;~~..  \n",
      "                                  ::!!******==::..\n",
      "                                --!!########**==~~\n",
      "                                ::**##$$$$$$##!!::\n",
      "                                ::**$$$$$$$$##!!::\n",
      "                                ~~!!##$$$$$$##!!::\n",
      "                                  ==**######**==--\n",
      "                                  --==!!!!!!==~~  \n",
      "          --~~~~~~~~~~,,              --~~~~,,    \n",
      "      ,,::;;==========;;::,,                      \n",
      "    --::==!!!!******!!!!==;;--                    \n",
      "  --::==!!****########**!!==::,,                  \n",
      "  ~~;;!!**####$$$$$$####**!!==~~                  \n",
      ",,::==!!####$$$$$$$$$$####**==::,,                \n",
      "--;;==**##$$$$$$$$$$$$$$##**!!;;--                \n",
      "--;;==**##$$$$$$$$$$$$$$##**!!;;~~                \n",
      "--;;==**##$$$$$$$$$$$$$$##**!!;;--                \n",
      "--;;==**####$$$$$$$$$$####**!!;;--                \n",
      "--::==!!**####$$$$$$$$##****==::,,                \n",
      ",,::;;==****##########****!!;;::..                \n",
      "  --::==!!!!************!!==::--                  \n",
      "  ,,~~::====!!!!!!!!!!====;;~~..                  \n",
      "    ,,--::;;;;======;;;;::~~..                    \n",
      "      ..--~~::::::::::~~--..                      \n",
      "          ..,,------,,..                          \n",
      "\n"
     ]
    }
   ],
   "source": [
    "# display the sphere\n",
    "print(scene.screen.display())"
   ]
  },
  {
   "cell_type": "code",
   "execution_count": 6,
   "metadata": {},
   "outputs": [],
   "source": [
    "from donut import *\n",
    "\n",
    "# screen\n",
    "num_pixels,scale_screen = 40, 1.\n",
    "screen = Screen(num_pixels,scale_screen)\n",
    "\n",
    "# donut\n",
    "vertices, normals = generate_donut_mesh(0.5,0.25,scale_screen,num_pixels)\n",
    "donut = RotatableMesh(vertices,normals)\n",
    "donut.rotate(-0.1*2*np.pi,'z')"
   ]
  },
  {
   "cell_type": "code",
   "execution_count": 7,
   "metadata": {},
   "outputs": [
    {
     "data": {
      "text/plain": [
       "array([ 1.17762727e-05, -4.32064674e-07,  1.87555442e-08])"
      ]
     },
     "execution_count": 7,
     "metadata": {},
     "output_type": "execute_result"
    }
   ],
   "source": [
    "np.mean(vertices,axis=0)"
   ]
  },
  {
   "cell_type": "code",
   "execution_count": 8,
   "metadata": {},
   "outputs": [
    {
     "name": "stdout",
     "output_type": "stream",
     "text": [
      "                                                                                \n",
      "                                                                                \n",
      "                                                                                \n",
      "                                                                                \n",
      "                                                                                \n",
      "                                                                                \n",
      "                                                                                \n",
      "                                                                                \n",
      "                              ::!!**********!!==::                              \n",
      "                            !!**####$$######****!!;;                            \n",
      "                          !!##$$$$$$$$$$####******!!==                          \n",
      "                        !!##$$$$$$$$$$##******!!!!!!!!;;                        \n",
      "                      ;;**$$$$$$$$$$##**!!!!!!!!!!!!!!==::                      \n",
      "                    --!!##$$$$$$$$##****!!======!!!!!!!!==,,                    \n",
      "                    ;;**$$$$$$$$$$**!!==::::::;;==!!!!!!==::                    \n",
      "                    ==##$$$$$$$$##!!==~~,,..,,~~;;==!!!!!!;;                    \n",
      "                  ,,==##$$$$$$$$**!!::    ..--::;;==!!**!!==,,                  \n",
      "                  ~~!!##$$$$$$##**==,,      --;;==!!****!!==--                  \n",
      "                  ~~==**##$$$$##!!;;        ~~;;!!********==~~                  \n",
      "                  ~~==**########!!::        ~~==**######**==~~                  \n",
      "                  ~~==**########!!;;        ==**$$$$$$##**==~~                  \n",
      "                  --==!!######**!!==        !!##$$$$$$##**==--                  \n",
      "                  ,,;;!!********!!==::    ==##$$$$$$$$##**==,,                  \n",
      "                    ::==!!********!!==;;==**$$$$$$$$$$##!!;;                    \n",
      "                    --;;==!!!!****!!!!!!!!**##$$$$$$##!!==~~                    \n",
      "                    ..~~;;==!!!!!!!!!!!!!!**########**!!;;,,                    \n",
      "                      --::;;====!!!!!!!!!!********!!!!==~~                      \n",
      "                        --::;;;;====!!!!!!!!!!!!!!!!==::..                      \n",
      "                          --~~::::;;======!!!!!!==;;::,,                        \n",
      "                            ,,--~~::::;;;;;;;;;;::~~..                          \n",
      "                              ..,,,,--~~~~~~~~--,,                              \n",
      "                                        ....                                    \n",
      "                                                                                \n",
      "                                                                                \n",
      "                                                                                \n",
      "                                                                                \n",
      "                                                                                \n",
      "                                                                                \n",
      "                                                                                \n",
      "                                                                                \n",
      "\n"
     ]
    }
   ],
   "source": [
    "# scene\n",
    "camera_distance=1. # camera distance \n",
    "new_scene = Scene(camera_distance,screen)\n",
    "new_scene.add_mesh(donut,np.array([0.,1.5,0.]))\n",
    "new_scene.add_light(1., np.array([0.,-5.,3.])) # light intensity, light position\n",
    "\n",
    "# render\n",
    "new_scene.render()\n",
    "print(new_scene.screen.display())"
   ]
  }
 ],
 "metadata": {
  "kernelspec": {
   "display_name": "myenv",
   "language": "python",
   "name": "python3"
  },
  "language_info": {
   "codemirror_mode": {
    "name": "ipython",
    "version": 3
   },
   "file_extension": ".py",
   "mimetype": "text/x-python",
   "name": "python",
   "nbconvert_exporter": "python",
   "pygments_lexer": "ipython3",
   "version": "3.10.9"
  }
 },
 "nbformat": 4,
 "nbformat_minor": 2
}
